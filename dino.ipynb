{
 "cells": [
  {
   "cell_type": "code",
   "execution_count": 1,
   "id": "e02b564b",
   "metadata": {},
   "outputs": [],
   "source": [
    "import os\n",
    "import cv2\n",
    "import torch\n",
    "import numpy as np\n",
    "from tqdm import tqdm\n",
    "from torchvision import models, transforms\n",
    "from torch import nn\n",
    "from sklearn.metrics import roc_auc_score\n",
    "from sklearn.metrics import pairwise_distances\n",
    "from sklearn.random_projection import SparseRandomProjection"
   ]
  },
  {
   "cell_type": "code",
   "execution_count": 23,
   "id": "51689217",
   "metadata": {},
   "outputs": [],
   "source": [
    "# --- Settings ---\n",
    "DEVICE = torch.device(\"cuda\" if torch.cuda.is_available() else \"cpu\")\n",
    "TRAIN_DIR = \"masks/good\"\n",
    "TEST_DIR_GOOD = \"masks/test/good\"\n",
    "TEST_DIR_DEFECT = \"masks/test/defective\"\n",
    "\n"
   ]
  },
  {
   "cell_type": "code",
   "execution_count": 4,
   "id": "69c5d3e8",
   "metadata": {},
   "outputs": [
    {
     "name": "stderr",
     "output_type": "stream",
     "text": [
      "Using cache found in C:\\Users\\DDP Engineering/.cache\\torch\\hub\\facebookresearch_dino_main\n"
     ]
    }
   ],
   "source": [
    "dino = torch.hub.load('facebookresearch/dino:main', 'dino_vitb16').to(DEVICE).eval()\n",
    "# DINO has no classification head; extracts patch features\n",
    "\n",
    "# --- Adjust transform to DINO expectations ---\n",
    "from torchvision import transforms\n",
    "transform = transforms.Compose([\n",
    "    transforms.ToPILImage(),\n",
    "    transforms.Resize((224, 224)),\n",
    "    transforms.ToTensor(),\n",
    "    transforms.Normalize(mean=(0.5,0.5,0.5), std=(0.5,0.5,0.5))])\n",
    "    "
   ]
  },
  {
   "cell_type": "code",
   "execution_count": 18,
   "id": "b220fc12",
   "metadata": {},
   "outputs": [],
   "source": [
    "def extract_patch_features(img):\n",
    "    img_rgb = cv2.cvtColor(img, cv2.COLOR_BGR2RGB)\n",
    "    x = transform(img_rgb).unsqueeze(0).to(DEVICE)\n",
    "\n",
    "    with torch.no_grad():\n",
    "        # 🧠 Manual forward through DINO transformer to get patch tokens\n",
    "        x = dino.prepare_tokens(x)  # token + positional encoding\n",
    "        for blk in dino.blocks:\n",
    "            x = blk(x)\n",
    "        x = dino.norm(x)  # [1, 197, 768]\n",
    "        patch_tokens = x[:, 1:, :]  # remove CLS\n",
    "\n",
    "    return patch_tokens.squeeze(0).cpu().numpy()\n"
   ]
  },
  {
   "cell_type": "code",
   "execution_count": 19,
   "id": "a5809709",
   "metadata": {},
   "outputs": [],
   "source": [
    "# --- Reuse your auto-crop function ---\n",
    "def auto_crop_only(img):\n",
    "    hsv = cv2.cvtColor(img, cv2.COLOR_BGR2HSV)\n",
    "    mask = cv2.inRange(hsv, np.array([0,0,200]), np.array([180,40,255]))\n",
    "    mask = cv2.morphologyEx(mask, cv2.MORPH_CLOSE,\n",
    "                             cv2.getStructuringElement(cv2.MORPH_ELLIPSE,(15,15)))\n",
    "    contours, _ = cv2.findContours(mask, cv2.RETR_EXTERNAL, cv2.CHAIN_APPROX_SIMPLE)\n",
    "    if not contours:\n",
    "        return None\n",
    "    x,y,w,h = cv2.boundingRect(max(contours, key=cv2.contourArea))\n",
    "    return img[y:y+h, x:x+w]\n"
   ]
  },
  {
   "cell_type": "code",
   "execution_count": 20,
   "id": "eed0789f",
   "metadata": {},
   "outputs": [],
   "source": [
    "def process_image(path):\n",
    "    img = cv2.imread(path)\n",
    "    crop = auto_crop_only(img)\n",
    "    if crop is None:\n",
    "        return None\n",
    "    return extract_patch_features(crop)"
   ]
  },
  {
   "cell_type": "code",
   "execution_count": 21,
   "id": "d0a701f0",
   "metadata": {},
   "outputs": [
    {
     "name": "stdout",
     "output_type": "stream",
     "text": [
      "🔍 Extracting DINO features from TRAIN_DIR …\n"
     ]
    },
    {
     "name": "stderr",
     "output_type": "stream",
     "text": [
      "100%|██████████| 32/32 [00:04<00:00,  7.43it/s]\n"
     ]
    },
    {
     "name": "stdout",
     "output_type": "stream",
     "text": [
      "🎯 Building memory bank …\n"
     ]
    },
    {
     "name": "stderr",
     "output_type": "stream",
     "text": [
      "100%|██████████| 62/62 [00:00<00:00, 132.26it/s]\n"
     ]
    }
   ],
   "source": [
    "# --- Build memory bank with k-Center Greedy on DINO features ---\n",
    "all_feats = []\n",
    "print(\"🔍 Extracting DINO features from TRAIN_DIR …\")\n",
    "for fname in tqdm(os.listdir(TRAIN_DIR)):\n",
    "    if fname.lower().endswith(('.jpg','.png','.jpeg')):\n",
    "        feats = process_image(os.path.join(TRAIN_DIR, fname))\n",
    "        if feats is not None:\n",
    "            all_feats.append(feats)\n",
    "all_feats = np.vstack(all_feats)\n",
    "\n",
    "rp = SparseRandomProjection(eps=0.5)\n",
    "proj = rp.fit_transform(all_feats)\n",
    "n_keep = max(1, int(len(proj)*0.01))\n",
    "selected, dist = [], None\n",
    "print(\"🎯 Building memory bank …\")\n",
    "for _ in tqdm(range(n_keep)):\n",
    "    if dist is None:\n",
    "        idx = np.random.randint(0, len(proj))\n",
    "        cent = proj[idx:idx+1]\n",
    "        dist = pairwise_distances(proj, cent)\n",
    "        selected = [idx]\n",
    "    else:\n",
    "        idx = np.argmax(dist)\n",
    "        cent = proj[idx:idx+1]\n",
    "        newd = pairwise_distances(proj, cent)\n",
    "        dist = np.minimum(dist, newd)\n",
    "        selected.append(idx)\n",
    "memory = torch.tensor(all_feats[selected]).float().to(DEVICE)"
   ]
  },
  {
   "cell_type": "code",
   "execution_count": 25,
   "id": "e4351d30",
   "metadata": {},
   "outputs": [
    {
     "name": "stdout",
     "output_type": "stream",
     "text": [
      "📊 Scoring GOOD images …\n"
     ]
    },
    {
     "name": "stderr",
     "output_type": "stream",
     "text": [
      "100%|██████████| 1/1 [00:00<00:00,  5.40it/s]\n"
     ]
    },
    {
     "name": "stdout",
     "output_type": "stream",
     "text": [
      "📊 Scoring DEFECTIVE images …\n"
     ]
    },
    {
     "name": "stderr",
     "output_type": "stream",
     "text": [
      "100%|██████████| 1/1 [00:00<00:00,  5.46it/s]\n"
     ]
    }
   ],
   "source": [
    "# --- Define anomaly scoring on patches ---\n",
    "def anomaly_score(path):\n",
    "    feats = process_image(path)\n",
    "    if feats is None:\n",
    "        return None\n",
    "    d = torch.cdist(torch.tensor(feats).float().to(DEVICE), memory)\n",
    "    return d.min(dim=1).values.max().item()\n",
    "\n",
    "def score_folder(folder):\n",
    "    out = []\n",
    "    for fname in tqdm(os.listdir(folder)):\n",
    "        if fname.lower().endswith(('.jpg','.png','.jpeg')):\n",
    "            sc = anomaly_score(os.path.join(folder,fname))\n",
    "            if sc is not None:\n",
    "                out.append((fname, sc))\n",
    "    return out\n",
    "\n",
    "print(\"📊 Scoring GOOD images …\")\n",
    "scores_good = score_folder(TEST_DIR_GOOD)\n",
    "print(\"📊 Scoring DEFECTIVE images …\")\n",
    "scores_defect = score_folder(TEST_DIR_DEFECT)"
   ]
  },
  {
   "cell_type": "code",
   "execution_count": 26,
   "id": "0e913aac",
   "metadata": {},
   "outputs": [
    {
     "name": "stdout",
     "output_type": "stream",
     "text": [
      "✅ Threshold (95th percentile of GOOD scores): 54.8213\n",
      "Results:\n",
      "GOOD | Image__2025-05-05__10-06-44.jpg | Score: 54.8213 | Normal ✅\n",
      "DEFECT | 33af61dd-Image__2025-05-02__10-36-24.jpg | Score: 64.4739 | ANOMALY 🚨\n"
     ]
    }
   ],
   "source": [
    "\n",
    "good_vals = [v for _,v in scores_good]\n",
    "thr = np.percentile(good_vals, 95)\n",
    "print(f\"✅ Threshold (95th percentile of GOOD scores): {thr:.4f}\\nResults:\")\n",
    "for lbl, scs in [('GOOD', scores_good), ('DEFECT', scores_defect)]:\n",
    "    for fname, score in scs:\n",
    "        outcome = \"ANOMALY 🚨\" if score > thr else \"Normal ✅\"\n",
    "        print(f\"{lbl} | {fname:<30} | Score: {score:.4f} | {outcome}\")"
   ]
  },
  {
   "cell_type": "code",
   "execution_count": null,
   "id": "bfc91fa5",
   "metadata": {},
   "outputs": [],
   "source": []
  }
 ],
 "metadata": {
  "kernelspec": {
   "display_name": "Python 3",
   "language": "python",
   "name": "python3"
  },
  "language_info": {
   "codemirror_mode": {
    "name": "ipython",
    "version": 3
   },
   "file_extension": ".py",
   "mimetype": "text/x-python",
   "name": "python",
   "nbconvert_exporter": "python",
   "pygments_lexer": "ipython3",
   "version": "3.10.0"
  }
 },
 "nbformat": 4,
 "nbformat_minor": 5
}
